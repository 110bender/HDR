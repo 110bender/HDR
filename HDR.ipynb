{
  "nbformat": 4,
  "nbformat_minor": 0,
  "metadata": {
    "colab": {
      "name": "HDR",
      "provenance": [],
      "collapsed_sections": [],
      "authorship_tag": "ABX9TyOSZqrf7Q3sr7GNsC+JTVVl",
      "include_colab_link": true
    },
    "kernelspec": {
      "display_name": "Python 3",
      "name": "python3"
    }
  },
  "cells": [
    {
      "cell_type": "markdown",
      "metadata": {
        "id": "view-in-github",
        "colab_type": "text"
      },
      "source": [
        "<a href=\"https://colab.research.google.com/github/110bender/HDR/blob/main/HDR.ipynb\" target=\"_parent\"><img src=\"https://colab.research.google.com/assets/colab-badge.svg\" alt=\"Open In Colab\"/></a>"
      ]
    },
    {
      "cell_type": "markdown",
      "metadata": {
        "id": "f9Cljwn8wfC3"
      },
      "source": [
        "## **Handwritten digit recognition (HDR)**\n",
        "Backpropagation neural network with Pytorch 💥 \n",
        "\n",
        "---\n",
        "\n",
        "\n",
        "This project's aim is to realize a system to recognize handwritten digits and convert them to machine language. \n",
        "\n",
        "The system is developed using a backpropagation neural network trained by the MNIST dataset.\n",
        "\n",
        "An *effective* feature extraction called [LLF (Local Line Fitting)](https://drive.google.com/file/d/16oAKR5FrQNRoWzxbLgYlUsO3vq2ZX5Im/view?usp=sharing) is used. The method, based on simple geometric operations, is very efficient and yields a relatively low-dimensional and distortion invariant representation. \n",
        "\n",
        "An important feature of the approach is that **no preprocessing** of the input image is required. A black & white or gray-scale pixel representation is directly used **without thinning, contour following, binarization**, etc. Therefore, high recognition **speed** can be achieved.\n"
      ]
    },
    {
      "cell_type": "code",
      "metadata": {
        "id": "WVZtGkGixRay"
      },
      "source": [
        "import torch\n",
        "from torch import nn \n",
        "from torchvision import datasets, transforms\n",
        "from torch.utils.data import random_split, DataLoader\n",
        "import numpy as np\n",
        "from sklearn.linear_model import LinearRegression"
      ],
      "execution_count": 147,
      "outputs": []
    },
    {
      "cell_type": "code",
      "metadata": {
        "id": "nLI6GK0AjhVl"
      },
      "source": [
        "# Download train_data\n",
        "train_data = datasets.MNIST('data', train=True, download=True, transform=transforms.ToTensor())"
      ],
      "execution_count": 148,
      "outputs": []
    },
    {
      "cell_type": "code",
      "metadata": {
        "id": "PzbAlZRVgLPm"
      },
      "source": [
        "# Feature extraction function\n",
        "def feature_extraction(image):\n",
        "\n",
        "  feature_np = image.numpy()\n",
        "\n",
        "  # Split image into 16 cells\n",
        "  cells = [] #16\n",
        "\n",
        "  x = np.vsplit(feature_np.reshape(28,28), 4)\n",
        "  for i in range(len(x)):\n",
        "    cells.extend(np.hsplit(x[i],4))\n",
        "\n",
        "  cells_np = np.array(cells)\n",
        "\n",
        "  # Extract 3 features from each cell\n",
        "  feature_ex = [] #3*16\n",
        "\n",
        "  for j in range(16):\n",
        "    f1 = np.count_nonzero(cells_np[j] > 0.8)/7*7 #feature 1\n",
        "    indices_nonzero = np.nonzero(cells_np[j] > 0.8)\n",
        "    (y,x) = indices_nonzero\n",
        "    if x.shape==(0,):\n",
        "      f2=0.\n",
        "      f3=1.\n",
        "    else:\n",
        "      x = x.reshape(-1, 1)\n",
        "      y = y.reshape(-1, 1)\n",
        "      reg = LinearRegression().fit(x, y)\n",
        "      f2 = (2*float(reg.coef_))/(1+float(reg.coef_)**2) #feature 2\n",
        "      f3 = (1-float(reg.coef_)**2)/(1+float(reg.coef_)**2) #feature 3\n",
        "\n",
        "    feature_ex.append(f1)\n",
        "    feature_ex.append(f2)\n",
        "    feature_ex.append(f3)\n",
        "\n",
        "  feature_ex_np = np.array(feature_ex).astype('float32')\n",
        "  feature_ex = torch.as_tensor(feature_ex_np) #Don't allocate new memory\n",
        "\n",
        "  return feature_ex"
      ],
      "execution_count": 149,
      "outputs": []
    },
    {
      "cell_type": "code",
      "metadata": {
        "id": "7qIXedRTAonj"
      },
      "source": [
        "# Create new train data\n",
        "new_train_data = []\n",
        "\n",
        "for i in range (40000):\n",
        "  feature_ex = feature_extraction(train_data[i][0])\n",
        "  new_element = (feature_ex, train_data[i][1])\n",
        "  new_train_data.append(new_element)"
      ],
      "execution_count": 150,
      "outputs": []
    },
    {
      "cell_type": "code",
      "metadata": {
        "id": "69CCHPlf3C-z",
        "colab": {
          "base_uri": "https://localhost:8080/"
        },
        "outputId": "fc0f4c81-0eb0-492f-c53e-b69976b3f726"
      },
      "source": [
        "new_train_data[40000-1]"
      ],
      "execution_count": 151,
      "outputs": [
        {
          "output_type": "execute_result",
          "data": {
            "text/plain": [
              "(tensor([ 0.0000e+00,  0.0000e+00,  1.0000e+00,  1.0000e+00,  0.0000e+00,\n",
              "          1.0000e+00,  1.3000e+01,  1.6963e-01,  9.8551e-01,  3.0000e+00,\n",
              "         -9.6000e-01,  2.8000e-01,  0.0000e+00,  0.0000e+00,  1.0000e+00,\n",
              "          1.4000e+01, -9.9966e-01, -2.5970e-02,  1.7000e+01,  7.7284e-01,\n",
              "          6.3460e-01,  0.0000e+00,  0.0000e+00,  1.0000e+00,  4.0000e+00,\n",
              "          1.0000e+00, -2.2204e-16,  2.6000e+01, -4.2890e-01,  9.0335e-01,\n",
              "          2.3000e+01, -9.6867e-01,  2.4835e-01,  0.0000e+00,  0.0000e+00,\n",
              "          1.0000e+00,  1.0000e+00,  0.0000e+00,  1.0000e+00,  8.0000e+00,\n",
              "         -1.1077e-01,  9.9385e-01,  0.0000e+00,  0.0000e+00,  1.0000e+00,\n",
              "          0.0000e+00,  0.0000e+00,  1.0000e+00]),\n",
              " 5)"
            ]
          },
          "metadata": {
            "tags": []
          },
          "execution_count": 151
        }
      ]
    },
    {
      "cell_type": "code",
      "metadata": {
        "id": "0lwn8t1-LjJD"
      },
      "source": [
        "# Define Train validation loaders\n",
        "train, val = random_split(new_train_data, [35000, 5000])\n",
        "train_loader = DataLoader(train, batch_size=32)\n",
        "val_loader = DataLoader(val, batch_size=32)"
      ],
      "execution_count": 152,
      "outputs": []
    },
    {
      "cell_type": "code",
      "metadata": {
        "id": "MFrMA9lFwfoe"
      },
      "source": [
        "# Define the model\n",
        "class ResNet(nn.Module):\n",
        "  def __init__(self):\n",
        "    super().__init__()\n",
        "    self.l1 = nn.Linear(16*3, 50)\n",
        "    self.l2 = nn.Linear(50, 50)\n",
        "    self.do = nn.Dropout(0.1)\n",
        "    self.l3 = nn.Linear(50, 10)\n",
        "  def forward(self, x):\n",
        "    h1 = nn.functional.relu(self.l1(x))\n",
        "    h2 = nn.functional.relu(self.l2(h1))\n",
        "    do = self.do(h2 + h1)\n",
        "    output = self.l3(do)\n",
        "    return output\n",
        "\n",
        "model = ResNet()"
      ],
      "execution_count": 153,
      "outputs": []
    },
    {
      "cell_type": "code",
      "metadata": {
        "id": "QvvaSR6-uA-o"
      },
      "source": [
        "# Define the optimzer\n",
        "from torch import optim\n",
        "optim = optim.SGD(model.parameters(), lr=1e-2)"
      ],
      "execution_count": 154,
      "outputs": []
    },
    {
      "cell_type": "code",
      "metadata": {
        "id": "xt8OqaDIvLvB"
      },
      "source": [
        "# Define the loss\n",
        "loss = nn.CrossEntropyLoss()"
      ],
      "execution_count": 155,
      "outputs": []
    },
    {
      "cell_type": "code",
      "metadata": {
        "id": "rzIoJ4mFvq5w",
        "colab": {
          "base_uri": "https://localhost:8080/"
        },
        "outputId": "8a2f9773-32ea-4020-ce93-1e7e63bc6c7a"
      },
      "source": [
        "nb_epochs = 10\n",
        "for epoch in range(nb_epochs):\n",
        "\n",
        "  # Training loop\n",
        "  train_loss = 0\n",
        "  for batch in train_loader:\n",
        "    feature, label = batch\n",
        "\n",
        "    #1 forward \n",
        "    output = model(feature)\n",
        "\n",
        "    #2 compute \n",
        "    L = loss(output, label)\n",
        "\n",
        "    #3 clean\n",
        "    model.zero_grad()\n",
        "\n",
        "    #4 backward\n",
        "    L.backward()\n",
        "\n",
        "    #5 Apply\n",
        "    optim.step()\n",
        "\n",
        "    train_loss += L.item() #a tensor\n",
        "    train_loss /= len(train_loader)\n",
        "\n",
        "\n",
        "  # Validation loop\n",
        "  valid_loss = 0\n",
        "  correct = 0\n",
        "  total = 0\n",
        "  model.eval()\n",
        "  for batch in val_loader:\n",
        "    feature, label = batch\n",
        "\n",
        "    #1 forward\n",
        "    with torch.no_grad(): \n",
        "      output = model(feature) \n",
        "\n",
        "    #2 compute \n",
        "    L = loss(output, label)\n",
        "\n",
        "    valid_loss +=  L.item()\n",
        "    correct += torch.sum(torch.argmax(output, dim=1) == label).item()\n",
        "\n",
        "  valid_loss /= len(val_loader)\n",
        "  correct /= len(val_loader.dataset)\n",
        "\n",
        "  print(f\"epoch: {epoch+1}, train loss: {train_loss:.4f}, validation loss: {valid_loss:.4f}, correct predictions: {correct*100:.2f}%\")\n"
      ],
      "execution_count": 156,
      "outputs": [
        {
          "output_type": "stream",
          "text": [
            "epoch: 1, train loss: 0.0007, validation loss: 0.8103, correct predictions: 74.96%\n",
            "epoch: 2, train loss: 0.0005, validation loss: 0.6465, correct predictions: 79.26%\n",
            "epoch: 3, train loss: 0.0004, validation loss: 0.5710, correct predictions: 81.62%\n",
            "epoch: 4, train loss: 0.0004, validation loss: 0.5228, correct predictions: 82.98%\n",
            "epoch: 5, train loss: 0.0003, validation loss: 0.4864, correct predictions: 83.94%\n",
            "epoch: 6, train loss: 0.0003, validation loss: 0.4614, correct predictions: 84.64%\n",
            "epoch: 7, train loss: 0.0003, validation loss: 0.4484, correct predictions: 84.90%\n",
            "epoch: 8, train loss: 0.0003, validation loss: 0.4386, correct predictions: 85.32%\n",
            "epoch: 9, train loss: 0.0003, validation loss: 0.4235, correct predictions: 85.74%\n",
            "epoch: 10, train loss: 0.0003, validation loss: 0.4208, correct predictions: 85.96%\n"
          ],
          "name": "stdout"
        }
      ]
    },
    {
      "cell_type": "code",
      "metadata": {
        "id": "kOv5JT3ewPXw"
      },
      "source": [
        "# Download test_data\n",
        "test_data = datasets.MNIST('data', train=False, download=True, transform=transforms.ToTensor())"
      ],
      "execution_count": 157,
      "outputs": []
    },
    {
      "cell_type": "code",
      "metadata": {
        "id": "CfFeCKSJCqh0"
      },
      "source": [
        "# Create new test_data\n",
        "new_test_data = []\n",
        "for i in range (1000):\n",
        "  feature_ex = feature_extraction(test_data[i][0])\n",
        "  new_element = (feature_ex, test_data[i][1])\n",
        "  new_test_data.append(new_element)"
      ],
      "execution_count": 158,
      "outputs": []
    },
    {
      "cell_type": "code",
      "metadata": {
        "id": "K1wj2bAGCqV7"
      },
      "source": [
        "# Define test loader\n",
        "test_loader = DataLoader(new_test_data, batch_size=32, shuffle=True)"
      ],
      "execution_count": 159,
      "outputs": []
    },
    {
      "cell_type": "code",
      "metadata": {
        "id": "HrGYmkbuwRbW",
        "colab": {
          "base_uri": "https://localhost:8080/"
        },
        "outputId": "8186d846-5ca9-4125-b292-a49d454beed7"
      },
      "source": [
        "# Test loop\n",
        "test_loss = 0\n",
        "correct = 0\n",
        "total = 0\n",
        "\n",
        "for batch in test_loader:\n",
        "  feature, label = batch\n",
        "\n",
        "  #1 forward\n",
        "  with torch.no_grad(): \n",
        "    output = model(feature) \n",
        "\n",
        "  #2 compute \n",
        "  L = loss(output, label)\n",
        "\n",
        "  test_loss +=  L.item()\n",
        "  correct += torch.sum(torch.argmax(output, dim=1) == label).item()\n",
        "\n",
        "test_loss /= len(test_loader)\n",
        "correct /= len(test_loader.dataset)\n",
        "\n",
        "print(f\"correct predictions: {correct*100:.2f}%\")"
      ],
      "execution_count": 160,
      "outputs": [
        {
          "output_type": "stream",
          "text": [
            "correct predictions: 83.00%\n"
          ],
          "name": "stdout"
        }
      ]
    },
    {
      "cell_type": "code",
      "metadata": {
        "id": "YR7jQbi2wRli",
        "colab": {
          "base_uri": "https://localhost:8080/",
          "height": 1000
        },
        "outputId": "aef8931e-c235-4c3c-e14a-2e3dc93530a4"
      },
      "source": [
        "import matplotlib.pyplot as plt\n",
        "for i in range (20):\n",
        "  plt.imshow(test_data[i][0].view(28,28)) #real output\n",
        "  image = feature_extraction(test_data[i][0])\n",
        "  plt.title(torch.argmax(model(image))) #predicted output\n",
        "  plt.show()"
      ],
      "execution_count": 161,
      "outputs": [
        {
          "output_type": "display_data",
          "data": {
            "text/plain": [
              "<Figure size 432x288 with 1 Axes>"
            ],
            "image/png": "[encoded data removed]"
          },
          "metadata": {
            "tags": [],
            "needs_background": "light"
          }
        },
        {
          "output_type": "display_data",
          "data": {
            "text/plain": [
              "<Figure size 432x288 with 1 Axes>"
            ],
            "image/png": "[encoded data removed]"
          },
          "metadata": {
            "tags": [],
            "needs_background": "light"
          }
        },
        {
          "output_type": "display_data",
          "data": {
            "text/plain": [
              "<Figure size 432x288 with 1 Axes>"
            ],
            "image/png": "[encoded data removed]"
          },
          "metadata": {
            "tags": [],
            "needs_background": "light"
          }
        },
        {
          "output_type": "display_data",
          "data": {
            "text/plain": [
              "<Figure size 432x288 with 1 Axes>"
            ],
            "image/png": "[encoded data removed]"
          },
          "metadata": {
            "tags": [],
            "needs_background": "light"
          }
        },
        {
          "output_type": "display_data",
          "data": {
            "text/plain": [
              "<Figure size 432x288 with 1 Axes>"
            ],
            "image/png": "[encoded data removed]"
          },
          "metadata": {
            "tags": [],
            "needs_background": "light"
          }
        },
        {
          "output_type": "display_data",
          "data": {
            "text/plain": [
              "<Figure size 432x288 with 1 Axes>"
            ],
            "image/png": "[encoded data removed]"
          },
          "metadata": {
            "tags": [],
            "needs_background": "light"
          }
        },
        {
          "output_type": "display_data",
          "data": {
            "text/plain": [
              "<Figure size 432x288 with 1 Axes>"
            ],
            "image/png": "[encoded data removed]"
          },
          "metadata": {
            "tags": [],
            "needs_background": "light"
          }
        },
        {
          "output_type": "display_data",
          "data": {
            "text/plain": [
              "<Figure size 432x288 with 1 Axes>"
            ],
            "image/png": "[encoded data removed]"
          },
          "metadata": {
            "tags": [],
            "needs_background": "light"
          }
        },
        {
          "output_type": "display_data",
          "data": {
            "text/plain": [
              "<Figure size 432x288 with 1 Axes>"
            ],
            "image/png": "[encoded data removed]"
          },
          "metadata": {
            "tags": [],
            "needs_background": "light"
          }
        },
        {
          "output_type": "display_data",
          "data": {
            "text/plain": [
              "<Figure size 432x288 with 1 Axes>"
            ],
            "image/png": "[encoded data removed]"
          },
          "metadata": {
            "tags": [],
            "needs_background": "light"
          }
        },
        {
          "output_type": "display_data",
          "data": {
            "text/plain": [
              "<Figure size 432x288 with 1 Axes>"
            ],
            "image/png": "[encoded data removed]"
          },
          "metadata": {
            "tags": [],
            "needs_background": "light"
          }
        },
        {
          "output_type": "display_data",
          "data": {
            "text/plain": [
              "<Figure size 432x288 with 1 Axes>"
            ],
            "image/png": "[encoded data removed]"
          },
          "metadata": {
            "tags": [],
            "needs_background": "light"
          }
        },
        {
          "output_type": "display_data",
          "data": {
            "text/plain": [
              "<Figure size 432x288 with 1 Axes>"
            ],
            "image/png": "[encoded data removed]"
          },
          "metadata": {
            "tags": [],
            "needs_background": "light"
          }
        },
        {
          "output_type": "display_data",
          "data": {
            "text/plain": [
              "<Figure size 432x288 with 1 Axes>"
            ],
            "image/png": "[encoded data removed]"
          },
          "metadata": {
            "tags": [],
            "needs_background": "light"
          }
        },
        {
          "output_type": "display_data",
          "data": {
            "text/plain": [
              "<Figure size 432x288 with 1 Axes>"
            ],
            "image/png": "[encoded data removed]"
          },
          "metadata": {
            "tags": [],
            "needs_background": "light"
          }
        },
        {
          "output_type": "display_data",
          "data": {
            "text/plain": [
              "<Figure size 432x288 with 1 Axes>"
            ],
            "image/png": "[encoded data removed]"
          },
          "metadata": {
            "tags": [],
            "needs_background": "light"
          }
        },
        {
          "output_type": "display_data",
          "data": {
            "text/plain": [
              "<Figure size 432x288 with 1 Axes>"
            ],
            "image/png": "[encoded data removed]"
          },
          "metadata": {
            "tags": [],
            "needs_background": "light"
          }
        },
        {
          "output_type": "display_data",
          "data": {
            "text/plain": [
              "<Figure size 432x288 with 1 Axes>"
            ],
            "image/png": "[encoded data removed]"
          },
          "metadata": {
            "tags": [],
            "needs_background": "light"
          }
        },
        {
          "output_type": "display_data",
          "data": {
            "text/plain": [
              "<Figure size 432x288 with 1 Axes>"
            ],
            "image/png": "[encoded data removed]"
          },
          "metadata": {
            "tags": [],
            "needs_background": "light"
          }
        },
        {
          "output_type": "display_data",
          "data": {
            "text/plain": [
              "<Figure size 432x288 with 1 Axes>"
            ],
            "image/png": "[encoded data removed]"
          },
          "metadata": {
            "tags": [],
            "needs_background": "light"
          }
        }
      ]
    },
    {
      "cell_type": "markdown",
      "metadata": {
        "id": "NprshOrp5chz"
      },
      "source": [
        "## ***By Bender & Benhima.***"
      ]
    }
  ]
}